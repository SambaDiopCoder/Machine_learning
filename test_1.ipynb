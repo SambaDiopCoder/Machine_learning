{
 "cells": [
  {
   "cell_type": "code",
   "execution_count": 29,
   "id": "3735aaf1",
   "metadata": {},
   "outputs": [],
   "source": [
    "import numpy as np\n",
    "import matplotlib.pyplot as plt\n",
    "from sklearn.datasets import make_regression"
   ]
  },
  {
   "cell_type": "code",
   "execution_count": 30,
   "id": "8fd17c96",
   "metadata": {},
   "outputs": [
    {
     "data": {
      "text/plain": [
       "<matplotlib.collections.PathCollection at 0x1967928c3d0>"
      ]
     },
     "execution_count": 30,
     "metadata": {},
     "output_type": "execute_result"
    },
    {
     "data": {
      "image/png": "[encoded data removed]",
      "text/plain": [
       "<Figure size 640x480 with 1 Axes>"
      ]
     },
     "metadata": {},
     "output_type": "display_data"
    }
   ],
   "source": [
    "x, y = make_regression(n_samples =50, n_features = 1, noise = 10)\n",
    "plt.scatter(x, y)\n"
   ]
  },
  {
   "cell_type": "code",
   "execution_count": 31,
   "id": "960f29f6",
   "metadata": {},
   "outputs": [
    {
     "name": "stdout",
     "output_type": "stream",
     "text": [
      "(50, 1)\n",
      "(50, 1)\n"
     ]
    }
   ],
   "source": [
    "print(x.shape)\n",
    "y = y.reshape(y.shape[0], 1)\n",
    "print(y.shape)"
   ]
  },
  {
   "cell_type": "code",
   "execution_count": 32,
   "id": "9944f2bb",
   "metadata": {},
   "outputs": [
    {
     "data": {
      "text/plain": [
       "array([[ 0.42127066,  1.        ],\n",
       "       [ 0.65051048,  1.        ],\n",
       "       [ 0.23524359,  1.        ],\n",
       "       [ 0.61221451,  1.        ],\n",
       "       [ 2.06912585,  1.        ],\n",
       "       [ 1.18939905,  1.        ],\n",
       "       [ 2.18121958,  1.        ],\n",
       "       [ 0.51162368,  1.        ],\n",
       "       [-0.64066006,  1.        ],\n",
       "       [ 1.06053987,  1.        ],\n",
       "       [ 0.45060086,  1.        ],\n",
       "       [ 0.61895985,  1.        ],\n",
       "       [-0.15321492,  1.        ],\n",
       "       [-0.1980977 ,  1.        ],\n",
       "       [-0.47283597,  1.        ],\n",
       "       [ 0.08530452,  1.        ],\n",
       "       [-1.48601209,  1.        ],\n",
       "       [-0.20120961,  1.        ],\n",
       "       [ 0.35301031,  1.        ],\n",
       "       [ 0.11020232,  1.        ],\n",
       "       [ 0.16612971,  1.        ],\n",
       "       [-0.96598076,  1.        ],\n",
       "       [ 0.7392165 ,  1.        ],\n",
       "       [-0.48860332,  1.        ],\n",
       "       [-0.7324333 ,  1.        ],\n",
       "       [ 1.22254784,  1.        ],\n",
       "       [ 1.60121038,  1.        ],\n",
       "       [-1.49914901,  1.        ],\n",
       "       [ 0.01017216,  1.        ],\n",
       "       [-0.77263319,  1.        ],\n",
       "       [ 0.34808661,  1.        ],\n",
       "       [-0.1606496 ,  1.        ],\n",
       "       [-0.61059955,  1.        ],\n",
       "       [-0.45736548,  1.        ],\n",
       "       [ 1.57217455,  1.        ],\n",
       "       [-1.04239986,  1.        ],\n",
       "       [-1.95227464,  1.        ],\n",
       "       [-0.49588991,  1.        ],\n",
       "       [-0.67668421,  1.        ],\n",
       "       [-0.85912016,  1.        ],\n",
       "       [-1.19872417,  1.        ],\n",
       "       [-0.44749469,  1.        ],\n",
       "       [-0.15713361,  1.        ],\n",
       "       [-0.49848938,  1.        ],\n",
       "       [-1.62148813,  1.        ],\n",
       "       [ 0.34183813,  1.        ],\n",
       "       [ 0.80668351,  1.        ],\n",
       "       [-1.06694535,  1.        ],\n",
       "       [-3.2680901 ,  1.        ],\n",
       "       [-0.61568407,  1.        ]])"
      ]
     },
     "execution_count": 32,
     "metadata": {},
     "output_type": "execute_result"
    }
   ],
   "source": [
    "X = np.hstack((x, np.ones(x.shape)))\n",
    "X"
   ]
  },
  {
   "cell_type": "code",
   "execution_count": 33,
   "id": "da563d06",
   "metadata": {},
   "outputs": [
    {
     "data": {
      "text/plain": [
       "array([[0.46244855],\n",
       "       [1.24684011]])"
      ]
     },
     "execution_count": 33,
     "metadata": {},
     "output_type": "execute_result"
    }
   ],
   "source": [
    "theta = np.random.randn(2, 1)\n",
    "theta"
   ]
  },
  {
   "cell_type": "code",
   "execution_count": 34,
   "id": "57816800",
   "metadata": {},
   "outputs": [],
   "source": [
    "def modele(X, theta):\n",
    "    return X.dot(theta)"
   ]
  },
  {
   "cell_type": "code",
   "execution_count": 35,
   "id": "c6088ae6",
   "metadata": {},
   "outputs": [
    {
     "data": {
      "text/plain": [
       "[<matplotlib.lines.Line2D at 0x19679b7d3d0>]"
      ]
     },
     "execution_count": 35,
     "metadata": {},
     "output_type": "execute_result"
    },
    {
     "data": {
      "image/png": "[encoded data removed]",
      "text/plain": [
       "<Figure size 640x480 with 1 Axes>"
      ]
     },
     "metadata": {},
     "output_type": "display_data"
    }
   ],
   "source": [
    "plt.scatter(x, y)\n",
    "plt.plot(x, modele(X, theta))"
   ]
  },
  {
   "cell_type": "code",
   "execution_count": 36,
   "id": "35b0bfb5",
   "metadata": {},
   "outputs": [],
   "source": [
    "def cout(X, theta, y):\n",
    "    m = len(y)\n",
    "    return (1/2*m) * np.sum(modele(X, theta) -y)**2"
   ]
  },
  {
   "cell_type": "code",
   "execution_count": 37,
   "id": "abbd6847",
   "metadata": {},
   "outputs": [
    {
     "data": {
      "text/plain": [
       "2488645.9078454436"
      ]
     },
     "execution_count": 37,
     "metadata": {},
     "output_type": "execute_result"
    }
   ],
   "source": [
    "cout(X, theta, y)"
   ]
  },
  {
   "cell_type": "code",
   "execution_count": 38,
   "id": "b47f01dd",
   "metadata": {},
   "outputs": [],
   "source": [
    "def grad(X, theta, y):\n",
    "    m = len(y)\n",
    "    return (1/m) * X.T.dot(modele(X, theta) - y)"
   ]
  },
  {
   "cell_type": "code",
   "execution_count": 41,
   "id": "53c47f47",
   "metadata": {},
   "outputs": [],
   "source": [
    "def desc_grad(X, theta, y, learning_rate, n_iteration):\n",
    "    for i in range(0, n_iteration):\n",
    "        theta = theta - learning_rate * grad(X, theta, y)\n",
    "    return theta"
   ]
  },
  {
   "cell_type": "code",
   "execution_count": 47,
   "id": "ebe7956a",
   "metadata": {},
   "outputs": [],
   "source": [
    "theta_final = desc_grad(X, theta, y, learning_rate=0.1, n_iteration = 1000)"
   ]
  },
  {
   "cell_type": "code",
   "execution_count": 48,
   "id": "982eae5f",
   "metadata": {},
   "outputs": [
    {
     "data": {
      "text/plain": [
       "array([[49.34771433],\n",
       "       [ 0.19923851]])"
      ]
     },
     "execution_count": 48,
     "metadata": {},
     "output_type": "execute_result"
    }
   ],
   "source": [
    "theta_final"
   ]
  },
  {
   "cell_type": "code",
   "execution_count": 49,
   "id": "669a591a",
   "metadata": {},
   "outputs": [
    {
     "data": {
      "text/plain": [
       "[<matplotlib.lines.Line2D at 0x19679148490>]"
      ]
     },
     "execution_count": 49,
     "metadata": {},
     "output_type": "execute_result"
    },
    {
     "data": {
      "image/png": "[encoded data removed]",
      "text/plain": [
       "<Figure size 640x480 with 1 Axes>"
      ]
     },
     "metadata": {},
     "output_type": "display_data"
    }
   ],
   "source": [
    "prediction = modele(X, theta_final)\n",
    "plt.scatter(x,y)\n",
    "plt.plot(x, prediction, c='r')"
   ]
  },
  {
   "cell_type": "code",
   "execution_count": 50,
   "id": "70c1ff74",
   "metadata": {},
   "outputs": [],
   "source": [
    "def coef_determination(y, pred):\n",
    "    u =( (y - pred)**2).sum()\n",
    "    v= (((y - y.mean())**2)).sum()\n",
    "    return 1 - u/v"
   ]
  },
  {
   "cell_type": "code",
   "execution_count": 51,
   "id": "f3f31f4a",
   "metadata": {},
   "outputs": [
    {
     "data": {
      "text/plain": [
       "0.9684527820084473"
      ]
     },
     "execution_count": 51,
     "metadata": {},
     "output_type": "execute_result"
    }
   ],
   "source": [
    "coef_determination(y, prediction)"
   ]
  },
  {
   "cell_type": "code",
   "execution_count": null,
   "id": "70c4104f",
   "metadata": {},
   "outputs": [],
   "source": []
  }
 ],
 "metadata": {
  "kernelspec": {
   "display_name": "Python 3 (ipykernel)",
   "language": "python",
   "name": "python3"
  },
  "language_info": {
   "codemirror_mode": {
    "name": "ipython",
    "version": 3
   },
   "file_extension": ".py",
   "mimetype": "text/x-python",
   "name": "python",
   "nbconvert_exporter": "python",
   "pygments_lexer": "ipython3",
   "version": "3.11.5"
  }
 },
 "nbformat": 4,
 "nbformat_minor": 5
}
