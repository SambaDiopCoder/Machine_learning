{
 "cells": [
  {
   "cell_type": "code",
   "execution_count": 2,
   "id": "02e6eca8",
   "metadata": {},
   "outputs": [],
   "source": [
    "import numpy as np\n",
    "import matplotlib.pyplot as plt\n",
    "from sklearn.datasets import make_regression\n"
   ]
  },
  {
   "cell_type": "code",
   "execution_count": 5,
   "id": "ab44cb27",
   "metadata": {},
   "outputs": [
    {
     "data": {
      "text/plain": [
       "<matplotlib.collections.PathCollection at 0x228b7398290>"
      ]
     },
     "execution_count": 5,
     "metadata": {},
     "output_type": "execute_result"
    },
    {
     "data": {
      "image/png": "[encoded data removed]",
      "text/plain": [
       "<Figure size 640x480 with 1 Axes>"
      ]
     },
     "metadata": {},
     "output_type": "display_data"
    }
   ],
   "source": [
    "#dataset tableau de données \n",
    "x, y = make_regression(n_samples = 100, n_features = 1, noise = 10)\n",
    "#image graphique du dataset \n",
    "plt.scatter(x, y)"
   ]
  },
  {
   "cell_type": "code",
   "execution_count": 6,
   "id": "0287af5d",
   "metadata": {},
   "outputs": [
    {
     "name": "stdout",
     "output_type": "stream",
     "text": [
      "(100, 1)\n",
      "(100, 1)\n"
     ]
    }
   ],
   "source": [
    "#les dimensions  x et y tjrs à verifier\n",
    "print(x.shape)\n",
    "y = y.reshape(y.shape[0], 1)\n",
    "print(y.shape)"
   ]
  },
  {
   "cell_type": "code",
   "execution_count": 8,
   "id": "f9cb442f",
   "metadata": {},
   "outputs": [
    {
     "data": {
      "text/plain": [
       "array([[-1.07321147,  1.        ],\n",
       "       [ 1.00165119,  1.        ],\n",
       "       [-0.67429866,  1.        ],\n",
       "       [-0.81618555,  1.        ],\n",
       "       [ 0.82931875,  1.        ],\n",
       "       [-0.99114246,  1.        ],\n",
       "       [ 1.37212147,  1.        ],\n",
       "       [-1.15990651,  1.        ],\n",
       "       [ 1.17416991,  1.        ],\n",
       "       [-0.01816093,  1.        ],\n",
       "       [ 0.70049747,  1.        ],\n",
       "       [ 0.35778742,  1.        ],\n",
       "       [-1.03129968,  1.        ],\n",
       "       [-0.61179161,  1.        ],\n",
       "       [ 1.68311236,  1.        ],\n",
       "       [-0.53133536,  1.        ],\n",
       "       [-1.44493937,  1.        ],\n",
       "       [ 1.02664688,  1.        ],\n",
       "       [ 1.27914995,  1.        ],\n",
       "       [ 0.19903538,  1.        ],\n",
       "       [ 0.69601709,  1.        ],\n",
       "       [-0.14757774,  1.        ],\n",
       "       [ 0.86874399,  1.        ],\n",
       "       [-0.36304574,  1.        ],\n",
       "       [-0.39564927,  1.        ],\n",
       "       [-0.08886482,  1.        ],\n",
       "       [-0.01978031,  1.        ],\n",
       "       [-1.30454238,  1.        ],\n",
       "       [ 2.21877019,  1.        ],\n",
       "       [ 0.34176422,  1.        ],\n",
       "       [-1.75068051,  1.        ],\n",
       "       [-0.76814041,  1.        ],\n",
       "       [ 0.57851427,  1.        ],\n",
       "       [ 0.2770201 ,  1.        ],\n",
       "       [ 1.39071642,  1.        ],\n",
       "       [-1.4173603 ,  1.        ],\n",
       "       [ 0.69011011,  1.        ],\n",
       "       [ 0.03138813,  1.        ],\n",
       "       [ 1.54693911,  1.        ],\n",
       "       [-0.61307376,  1.        ],\n",
       "       [-0.89008053,  1.        ],\n",
       "       [-0.65396998,  1.        ],\n",
       "       [ 2.57630546,  1.        ],\n",
       "       [ 2.21295689,  1.        ],\n",
       "       [ 0.29481125,  1.        ],\n",
       "       [-1.19958209,  1.        ],\n",
       "       [ 1.7631671 ,  1.        ],\n",
       "       [ 0.27914169,  1.        ],\n",
       "       [ 2.05912813,  1.        ],\n",
       "       [ 0.78004564,  1.        ],\n",
       "       [-0.6676805 ,  1.        ],\n",
       "       [ 0.18187998,  1.        ],\n",
       "       [-1.16492511,  1.        ],\n",
       "       [ 0.09097764,  1.        ],\n",
       "       [-0.29090054,  1.        ],\n",
       "       [-0.68974757,  1.        ],\n",
       "       [ 0.57849281,  1.        ],\n",
       "       [ 0.641035  ,  1.        ],\n",
       "       [ 0.66564622,  1.        ],\n",
       "       [-0.77847595,  1.        ],\n",
       "       [ 1.60285005,  1.        ],\n",
       "       [ 0.29972851,  1.        ],\n",
       "       [ 0.29352456,  1.        ],\n",
       "       [-0.92295729,  1.        ],\n",
       "       [-0.02911667,  1.        ],\n",
       "       [-1.16961201,  1.        ],\n",
       "       [-0.82249911,  1.        ],\n",
       "       [-1.45301289,  1.        ],\n",
       "       [-0.05367775,  1.        ],\n",
       "       [-1.27058835,  1.        ],\n",
       "       [ 0.34208509,  1.        ],\n",
       "       [-1.06587072,  1.        ],\n",
       "       [-0.15752333,  1.        ],\n",
       "       [ 0.57166106,  1.        ],\n",
       "       [-1.28736372,  1.        ],\n",
       "       [-0.52906135,  1.        ],\n",
       "       [-0.49097443,  1.        ],\n",
       "       [-1.15949339,  1.        ],\n",
       "       [ 1.14381217,  1.        ],\n",
       "       [ 0.42902681,  1.        ],\n",
       "       [-2.7362991 ,  1.        ],\n",
       "       [ 1.17726072,  1.        ],\n",
       "       [ 1.16286592,  1.        ],\n",
       "       [-0.0529267 ,  1.        ],\n",
       "       [ 0.18996163,  1.        ],\n",
       "       [-0.00782572,  1.        ],\n",
       "       [ 2.29578593,  1.        ],\n",
       "       [-1.2253004 ,  1.        ],\n",
       "       [ 0.1722625 ,  1.        ],\n",
       "       [ 0.84610207,  1.        ],\n",
       "       [-0.35752453,  1.        ],\n",
       "       [ 0.55168868,  1.        ],\n",
       "       [ 0.83091193,  1.        ],\n",
       "       [ 0.13476248,  1.        ],\n",
       "       [-0.45168304,  1.        ],\n",
       "       [-1.42381316,  1.        ],\n",
       "       [-1.28005529,  1.        ],\n",
       "       [ 1.14606319,  1.        ],\n",
       "       [ 2.19288969,  1.        ],\n",
       "       [-1.00095642,  1.        ]])"
      ]
     },
     "execution_count": 8,
     "metadata": {},
     "output_type": "execute_result"
    }
   ],
   "source": [
    "#matrice X\n",
    "X = np.hstack((x, np.ones(x.shape)))\n",
    "X"
   ]
  },
  {
   "cell_type": "code",
   "execution_count": 11,
   "id": "f313fbcb",
   "metadata": {},
   "outputs": [
    {
     "data": {
      "text/plain": [
       "array([[-1.35820147],\n",
       "       [ 0.58267087]])"
      ]
     },
     "execution_count": 11,
     "metadata": {},
     "output_type": "execute_result"
    }
   ],
   "source": [
    "#initialiser theta\n",
    "theta = np.random.randn(2, 1)\n",
    "theta"
   ]
  },
  {
   "cell_type": "code",
   "execution_count": 12,
   "id": "f4a6ca63",
   "metadata": {},
   "outputs": [],
   "source": [
    "#creer un modele F(X) =X.theta\n",
    "def modele(X, theta):\n",
    "    return X.dot(theta)"
   ]
  },
  {
   "cell_type": "code",
   "execution_count": 15,
   "id": "18cc9b60",
   "metadata": {},
   "outputs": [
    {
     "data": {
      "text/plain": [
       "[<matplotlib.lines.Line2D at 0x228b8786310>]"
      ]
     },
     "execution_count": 15,
     "metadata": {},
     "output_type": "execute_result"
    },
    {
     "data": {
      "image/png": "[encoded data removed]",
      "text/plain": [
       "<Figure size 640x480 with 1 Axes>"
      ]
     },
     "metadata": {},
     "output_type": "display_data"
    }
   ],
   "source": [
    "plt.scatter(x,y)\n",
    "plt.plot(x, modele(X, theta))"
   ]
  },
  {
   "cell_type": "code",
   "execution_count": 24,
   "id": "e80b39f3",
   "metadata": {},
   "outputs": [],
   "source": [
    "#fonction cout\n",
    "def cout_fonction(X, y, theta):\n",
    "    m = len(y)\n",
    "    return (1/2*m) * np.sum(modele(X, theta)-y)**2"
   ]
  },
  {
   "cell_type": "code",
   "execution_count": 25,
   "id": "e65aa76a",
   "metadata": {},
   "outputs": [
    {
     "data": {
      "text/plain": [
       "5624469.243406127"
      ]
     },
     "execution_count": 25,
     "metadata": {},
     "output_type": "execute_result"
    }
   ],
   "source": [
    "cout_fonction(X, y, theta)"
   ]
  },
  {
   "cell_type": "raw",
   "id": "b7faad65",
   "metadata": {},
   "source": []
  },
  {
   "cell_type": "code",
   "execution_count": 41,
   "id": "47ed1ea8",
   "metadata": {},
   "outputs": [],
   "source": [
    "def desc_grad(X, y, theta, learning_rate, n_iteration):\n",
    "    for i in range(0, n_iteration):\n",
    "        cons_history = np.zeros(n_iteration)\n",
    "        theta = theta - learning_rate*grad(X, y, theta)\n",
    "        cons_history[i]= cout_fonction(X, y, theta)\n",
    "    return theta, cons_history"
   ]
  },
  {
   "cell_type": "code",
   "execution_count": 42,
   "id": "6999fe69",
   "metadata": {},
   "outputs": [],
   "source": [
    "#marchine learning\n",
    "theta_final, cons_history = desc_grad(X, y, theta, learning_rate = 0.1, n_iteration = 1000)\n"
   ]
  },
  {
   "cell_type": "code",
   "execution_count": 43,
   "id": "917a7795",
   "metadata": {},
   "outputs": [
    {
     "data": {
      "text/plain": [
       "array([[62.50447979],\n",
       "       [ 0.57372027]])"
      ]
     },
     "execution_count": 43,
     "metadata": {},
     "output_type": "execute_result"
    }
   ],
   "source": [
    "theta_final"
   ]
  },
  {
   "cell_type": "code",
   "execution_count": 44,
   "id": "809f3dc0",
   "metadata": {},
   "outputs": [
    {
     "data": {
      "text/plain": [
       "[<matplotlib.lines.Line2D at 0x228b8817690>]"
      ]
     },
     "execution_count": 44,
     "metadata": {},
     "output_type": "execute_result"
    },
    {
     "data": {
      "image/png": "[encoded data removed]",
      "text/plain": [
       "<Figure size 640x480 with 1 Axes>"
      ]
     },
     "metadata": {},
     "output_type": "display_data"
    }
   ],
   "source": [
    "prediction = modele(X, theta_final)\n",
    "plt.scatter(x, y)\n",
    "plt.plot(x, prediction, c='r')\n"
   ]
  },
  {
   "cell_type": "code",
   "execution_count": 2,
   "id": "af3ea60f",
   "metadata": {},
   "outputs": [
    {
     "ename": "NameError",
     "evalue": "name 'plt' is not defined",
     "output_type": "error",
     "traceback": [
      "\u001b[1;31m---------------------------------------------------------------------------\u001b[0m",
      "\u001b[1;31mNameError\u001b[0m                                 Traceback (most recent call last)",
      "Cell \u001b[1;32mIn[2], line 1\u001b[0m\n\u001b[1;32m----> 1\u001b[0m plt\u001b[38;5;241m.\u001b[39mplot(\u001b[38;5;28mrange\u001b[39m(\u001b[38;5;241m1000\u001b[39m), cons_history)\n",
      "\u001b[1;31mNameError\u001b[0m: name 'plt' is not defined"
     ]
    }
   ],
   "source": [
    "plt.plot(range(1000), cons_history)"
   ]
  },
  {
   "cell_type": "code",
   "execution_count": 3,
   "id": "170f6fb8",
   "metadata": {},
   "outputs": [],
   "source": [
    "def coef_determination(y, pred):\n",
    "    u =( (y - pred)**2).sum()\n",
    "    v= (((y - y.mean())**2)).sum()\n",
    "    return 1 - u/v\n",
    "    "
   ]
  },
  {
   "cell_type": "code",
   "execution_count": 51,
   "id": "a17df89e",
   "metadata": {},
   "outputs": [
    {
     "data": {
      "text/plain": [
       "0.9808616126645759"
      ]
     },
     "execution_count": 51,
     "metadata": {},
     "output_type": "execute_result"
    }
   ],
   "source": [
    "coef_determination(y, prediction)"
   ]
  },
  {
   "cell_type": "code",
   "execution_count": null,
   "id": "d80a2d8e",
   "metadata": {},
   "outputs": [],
   "source": []
  }
 ],
 "metadata": {
  "kernelspec": {
   "display_name": "Python 3 (ipykernel)",
   "language": "python",
   "name": "python3"
  },
  "language_info": {
   "codemirror_mode": {
    "name": "ipython",
    "version": 3
   },
   "file_extension": ".py",
   "mimetype": "text/x-python",
   "name": "python",
   "nbconvert_exporter": "python",
   "pygments_lexer": "ipython3",
   "version": "3.11.5"
  }
 },
 "nbformat": 4,
 "nbformat_minor": 5
}
